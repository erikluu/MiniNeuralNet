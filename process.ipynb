{
 "cells": [
  {
   "cell_type": "code",
   "execution_count": 92,
   "metadata": {},
   "outputs": [],
   "source": [
    "import pandas as pd\n",
    "import numpy as np"
   ]
  },
  {
   "cell_type": "markdown",
   "metadata": {},
   "source": [
    "## 0. Load and Clean Data"
   ]
  },
  {
   "cell_type": "code",
   "execution_count": 93,
   "metadata": {},
   "outputs": [],
   "source": [
    "cannabis_full_df = pd.read_csv(\"https://www.dropbox.com/scl/fi/ryzkzqwbxzod2yie59ma3/cannabis_full.csv?rlkey=odvjjdivybzli8po2e0w390kq&dl=1\")\n",
    "cannabis_df = pd.concat([cannabis_full_df[\"Type\"], cannabis_full_df[\"Rating\"], cannabis_full_df.loc[:, \"Creative\":\"Pear\"]], axis=1)\n",
    "cannabis_df = cannabis_df[cannabis_df[\"Type\"] != \"hybrid\"]\n",
    "cannabis_df[\"Type_is_sativa\"] = np.where(cannabis_df[\"Type\"] == \"sativa\", 1, 0)\n",
    "cannabis_df = cannabis_df.dropna()"
   ]
  },
  {
   "cell_type": "code",
   "execution_count": 94,
   "metadata": {},
   "outputs": [
    {
     "data": {
      "text/plain": [
       "(67,\n",
       " Index(['Type', 'Rating', 'Creative', 'Energetic', 'Tingly', 'Euphoric',\n",
       "        'Relaxed', 'Aroused', 'Happy', 'Uplifted', 'Hungry', 'Talkative',\n",
       "        'Giggly', 'Focused', 'Sleepy', 'Dry', 'Mouth', 'Earthy', 'Sweet',\n",
       "        'Citrus', 'Flowery', 'Violet', 'Diesel', 'Spicy/Herbal', 'Sage',\n",
       "        'Woody', 'Apricot', 'Grapefruit', 'Orange', 'Pungent', 'Grape', 'Pine',\n",
       "        'Skunk', 'Berry', 'Pepper', 'Menthol', 'Blue', 'Cheese', 'Chemical',\n",
       "        'Mango', 'Lemon', 'Peach', 'Vanilla', 'Nutty', 'Chestnut', 'Tea',\n",
       "        'Tobacco', 'Tropical', 'Strawberry', 'Blueberry', 'Mint', 'Apple',\n",
       "        'Honey', 'Lavender', 'Lime', 'Coffee', 'Ammonia', 'Minty', 'Tree',\n",
       "        'Fruit', 'Butter', 'Pineapple', 'Tar', 'Rose', 'Plum', 'Pear',\n",
       "        'Type_is_sativa'],\n",
       "       dtype='object'))"
      ]
     },
     "execution_count": 94,
     "metadata": {},
     "output_type": "execute_result"
    }
   ],
   "source": [
    "len(cannabis_df.columns), cannabis_df.columns"
   ]
  },
  {
   "cell_type": "markdown",
   "metadata": {},
   "source": [
    "## 1. Get Regression Coefficients\n",
    "\n",
    "Fitting three different Logistic Regression model predicting `Type`"
   ]
  },
  {
   "cell_type": "code",
   "execution_count": 95,
   "metadata": {},
   "outputs": [],
   "source": [
    "import logistic_regression as lr"
   ]
  },
  {
   "cell_type": "markdown",
   "metadata": {},
   "source": [
    "Effect predictors [`\"Creative\"` : `\"Mouth\"`]"
   ]
  },
  {
   "cell_type": "code",
   "execution_count": 96,
   "metadata": {},
   "outputs": [
    {
     "name": "stdout",
     "output_type": "stream",
     "text": [
      "65\n",
      "[ 0.          1.3810244   2.67177003 -0.25179967  0.75454563 -0.44206622\n",
      "  0.12697881  1.30061358  2.11409624 -0.52269947  0.92790292 -0.04831339\n",
      "  1.43233131 -1.8970674   0.          0.          0.          0.\n",
      "  0.          0.          0.          0.          0.          0.\n",
      "  0.          0.          0.          0.          0.          0.\n",
      "  0.          0.          0.          0.          0.          0.\n",
      "  0.          0.          0.          0.          0.          0.\n",
      "  0.          0.          0.          0.          0.          0.\n",
      "  0.          0.          0.          0.          0.          0.\n",
      "  0.          0.          0.          0.          0.          0.\n",
      "  0.          0.          0.          0.          0.        ]\n"
     ]
    }
   ],
   "source": [
    "X = cannabis_df.loc[:, \"Creative\":\"Mouth\"].values\n",
    "y = cannabis_df[\"Type_is_sativa\"].values\n",
    "\n",
    "lr_betas_effects = lr.fit(X, y, lam=1)\n",
    "lr_betas_effects = np.insert(lr_betas_effects, 0, 0)\n",
    "lr_betas_effects = np.append(lr_betas_effects, np.zeros(49))\n",
    "\n",
    "print(len(lr_betas_effects))\n",
    "print(lr_betas_effects)"
   ]
  },
  {
   "cell_type": "markdown",
   "metadata": {},
   "source": [
    "Flavor predictors [`\"Earthy\"` : `\"Pear\"`]"
   ]
  },
  {
   "cell_type": "code",
   "execution_count": 97,
   "metadata": {},
   "outputs": [
    {
     "name": "stdout",
     "output_type": "stream",
     "text": [
      "65\n",
      "[ 0.          0.          0.          0.          0.          0.\n",
      "  0.          0.          0.          0.          0.          0.\n",
      "  0.          0.          0.          0.         -0.31618916  0.19096436\n",
      "  0.73784297 -0.23794156  0.00239725  0.05788641  0.01883925 -0.00142675\n",
      " -0.18662514  0.04341806  0.03437673  0.14624831 -0.33060471 -0.33530607\n",
      "  0.01905059 -0.05801883 -0.46020919 -0.05524014 -0.01364452 -0.19756487\n",
      " -0.09592525 -0.02975349  0.07512575  0.20463248  0.00088819 -0.00350622\n",
      " -0.03060104 -0.04016233  0.02369999 -0.00937342  0.360665    0.11431516\n",
      " -0.1951864  -0.02164033 -0.00269246 -0.05215031 -0.05652542  0.04772197\n",
      " -0.00939268 -0.02511319 -0.00202946  0.03244368  0.03244368 -0.09075152\n",
      "  0.15054162  0.0142764  -0.0484407   0.00294664 -0.00823416]\n"
     ]
    }
   ],
   "source": [
    "X = cannabis_df.loc[:, \"Earthy\":\"Pear\"].values\n",
    "y = cannabis_df[\"Type_is_sativa\"].values\n",
    "\n",
    "lr_betas_flavors = lr.fit(X, y, lam=1)\n",
    "lr_betas_flavors = np.append(np.zeros(16), lr_betas_flavors)\n",
    "print(len(lr_betas_flavors))\n",
    "print(lr_betas_flavors)"
   ]
  },
  {
   "cell_type": "markdown",
   "metadata": {},
   "source": [
    "Only Rating predictor [`\"Rating\"`]"
   ]
  },
  {
   "cell_type": "code",
   "execution_count": 98,
   "metadata": {},
   "outputs": [
    {
     "name": "stdout",
     "output_type": "stream",
     "text": [
      "65\n",
      "[11.18409276  0.          0.          0.          0.          0.\n",
      "  0.          0.          0.          0.          0.          0.\n",
      "  0.          0.          0.          0.          0.          0.\n",
      "  0.          0.          0.          0.          0.          0.\n",
      "  0.          0.          0.          0.          0.          0.\n",
      "  0.          0.          0.          0.          0.          0.\n",
      "  0.          0.          0.          0.          0.          0.\n",
      "  0.          0.          0.          0.          0.          0.\n",
      "  0.          0.          0.          0.          0.          0.\n",
      "  0.          0.          0.          0.          0.          0.\n",
      "  0.          0.          0.          0.          0.        ]\n"
     ]
    }
   ],
   "source": [
    "X = cannabis_df[[\"Rating\"]].values\n",
    "y = cannabis_df[\"Type_is_sativa\"].values\n",
    "\n",
    "lr_betas_rating = lr.fit(X, y, lam=1)\n",
    "lr_betas_rating = np.append(lr_betas_rating, np.zeros(64))\n",
    "print(len(lr_betas_rating))\n",
    "print(lr_betas_rating)"
   ]
  },
  {
   "cell_type": "markdown",
   "metadata": {},
   "source": [
    "## 2. Weight sets"
   ]
  },
  {
   "cell_type": "code",
   "execution_count": 99,
   "metadata": {},
   "outputs": [],
   "source": [
    "w1 = lr_betas_effects\n",
    "w2 = lr_betas_flavors\n",
    "w3 = lr_betas_rating"
   ]
  },
  {
   "cell_type": "markdown",
   "metadata": {},
   "source": [
    "## 3. Perceptron"
   ]
  },
  {
   "cell_type": "code",
   "execution_count": 100,
   "metadata": {},
   "outputs": [
    {
     "data": {
      "text/html": [
       "<div>\n",
       "<style scoped>\n",
       "    .dataframe tbody tr th:only-of-type {\n",
       "        vertical-align: middle;\n",
       "    }\n",
       "\n",
       "    .dataframe tbody tr th {\n",
       "        vertical-align: top;\n",
       "    }\n",
       "\n",
       "    .dataframe thead th {\n",
       "        text-align: right;\n",
       "    }\n",
       "</style>\n",
       "<table border=\"1\" class=\"dataframe\">\n",
       "  <thead>\n",
       "    <tr style=\"text-align: right;\">\n",
       "      <th></th>\n",
       "      <th>Rating</th>\n",
       "      <th>Creative</th>\n",
       "      <th>Energetic</th>\n",
       "      <th>Tingly</th>\n",
       "      <th>Euphoric</th>\n",
       "      <th>Relaxed</th>\n",
       "      <th>Aroused</th>\n",
       "      <th>Happy</th>\n",
       "      <th>Uplifted</th>\n",
       "      <th>Hungry</th>\n",
       "      <th>...</th>\n",
       "      <th>Ammonia</th>\n",
       "      <th>Minty</th>\n",
       "      <th>Tree</th>\n",
       "      <th>Fruit</th>\n",
       "      <th>Butter</th>\n",
       "      <th>Pineapple</th>\n",
       "      <th>Tar</th>\n",
       "      <th>Rose</th>\n",
       "      <th>Plum</th>\n",
       "      <th>Pear</th>\n",
       "    </tr>\n",
       "  </thead>\n",
       "  <tbody>\n",
       "    <tr>\n",
       "      <th>2</th>\n",
       "      <td>4.4</td>\n",
       "      <td>1.0</td>\n",
       "      <td>1.0</td>\n",
       "      <td>0.0</td>\n",
       "      <td>0.0</td>\n",
       "      <td>1.0</td>\n",
       "      <td>0.0</td>\n",
       "      <td>1.0</td>\n",
       "      <td>1.0</td>\n",
       "      <td>0.0</td>\n",
       "      <td>...</td>\n",
       "      <td>0.0</td>\n",
       "      <td>0.0</td>\n",
       "      <td>0.0</td>\n",
       "      <td>0.0</td>\n",
       "      <td>0.0</td>\n",
       "      <td>0.0</td>\n",
       "      <td>0.0</td>\n",
       "      <td>0.0</td>\n",
       "      <td>0.0</td>\n",
       "      <td>0.0</td>\n",
       "    </tr>\n",
       "    <tr>\n",
       "      <th>5</th>\n",
       "      <td>0.0</td>\n",
       "      <td>0.0</td>\n",
       "      <td>0.0</td>\n",
       "      <td>0.0</td>\n",
       "      <td>0.0</td>\n",
       "      <td>0.0</td>\n",
       "      <td>0.0</td>\n",
       "      <td>0.0</td>\n",
       "      <td>0.0</td>\n",
       "      <td>0.0</td>\n",
       "      <td>...</td>\n",
       "      <td>0.0</td>\n",
       "      <td>0.0</td>\n",
       "      <td>0.0</td>\n",
       "      <td>0.0</td>\n",
       "      <td>0.0</td>\n",
       "      <td>0.0</td>\n",
       "      <td>0.0</td>\n",
       "      <td>0.0</td>\n",
       "      <td>0.0</td>\n",
       "      <td>0.0</td>\n",
       "    </tr>\n",
       "    <tr>\n",
       "      <th>7</th>\n",
       "      <td>4.2</td>\n",
       "      <td>0.0</td>\n",
       "      <td>0.0</td>\n",
       "      <td>0.0</td>\n",
       "      <td>1.0</td>\n",
       "      <td>1.0</td>\n",
       "      <td>0.0</td>\n",
       "      <td>1.0</td>\n",
       "      <td>1.0</td>\n",
       "      <td>0.0</td>\n",
       "      <td>...</td>\n",
       "      <td>0.0</td>\n",
       "      <td>0.0</td>\n",
       "      <td>0.0</td>\n",
       "      <td>0.0</td>\n",
       "      <td>0.0</td>\n",
       "      <td>0.0</td>\n",
       "      <td>0.0</td>\n",
       "      <td>0.0</td>\n",
       "      <td>0.0</td>\n",
       "      <td>0.0</td>\n",
       "    </tr>\n",
       "    <tr>\n",
       "      <th>8</th>\n",
       "      <td>4.6</td>\n",
       "      <td>0.0</td>\n",
       "      <td>0.0</td>\n",
       "      <td>0.0</td>\n",
       "      <td>0.0</td>\n",
       "      <td>1.0</td>\n",
       "      <td>0.0</td>\n",
       "      <td>1.0</td>\n",
       "      <td>1.0</td>\n",
       "      <td>0.0</td>\n",
       "      <td>...</td>\n",
       "      <td>0.0</td>\n",
       "      <td>0.0</td>\n",
       "      <td>0.0</td>\n",
       "      <td>0.0</td>\n",
       "      <td>0.0</td>\n",
       "      <td>0.0</td>\n",
       "      <td>0.0</td>\n",
       "      <td>0.0</td>\n",
       "      <td>0.0</td>\n",
       "      <td>0.0</td>\n",
       "    </tr>\n",
       "    <tr>\n",
       "      <th>9</th>\n",
       "      <td>4.4</td>\n",
       "      <td>0.0</td>\n",
       "      <td>0.0</td>\n",
       "      <td>1.0</td>\n",
       "      <td>1.0</td>\n",
       "      <td>1.0</td>\n",
       "      <td>0.0</td>\n",
       "      <td>1.0</td>\n",
       "      <td>1.0</td>\n",
       "      <td>0.0</td>\n",
       "      <td>...</td>\n",
       "      <td>0.0</td>\n",
       "      <td>0.0</td>\n",
       "      <td>0.0</td>\n",
       "      <td>0.0</td>\n",
       "      <td>0.0</td>\n",
       "      <td>0.0</td>\n",
       "      <td>0.0</td>\n",
       "      <td>0.0</td>\n",
       "      <td>0.0</td>\n",
       "      <td>0.0</td>\n",
       "    </tr>\n",
       "  </tbody>\n",
       "</table>\n",
       "<p>5 rows × 65 columns</p>\n",
       "</div>"
      ],
      "text/plain": [
       "   Rating  Creative  Energetic  Tingly  Euphoric  Relaxed  Aroused  Happy  \\\n",
       "2     4.4       1.0        1.0     0.0       0.0      1.0      0.0    1.0   \n",
       "5     0.0       0.0        0.0     0.0       0.0      0.0      0.0    0.0   \n",
       "7     4.2       0.0        0.0     0.0       1.0      1.0      0.0    1.0   \n",
       "8     4.6       0.0        0.0     0.0       0.0      1.0      0.0    1.0   \n",
       "9     4.4       0.0        0.0     1.0       1.0      1.0      0.0    1.0   \n",
       "\n",
       "   Uplifted  Hungry  ...  Ammonia  Minty  Tree  Fruit  Butter  Pineapple  Tar  \\\n",
       "2       1.0     0.0  ...      0.0    0.0   0.0    0.0     0.0        0.0  0.0   \n",
       "5       0.0     0.0  ...      0.0    0.0   0.0    0.0     0.0        0.0  0.0   \n",
       "7       1.0     0.0  ...      0.0    0.0   0.0    0.0     0.0        0.0  0.0   \n",
       "8       1.0     0.0  ...      0.0    0.0   0.0    0.0     0.0        0.0  0.0   \n",
       "9       1.0     0.0  ...      0.0    0.0   0.0    0.0     0.0        0.0  0.0   \n",
       "\n",
       "   Rose  Plum  Pear  \n",
       "2   0.0   0.0   0.0  \n",
       "5   0.0   0.0   0.0  \n",
       "7   0.0   0.0   0.0  \n",
       "8   0.0   0.0   0.0  \n",
       "9   0.0   0.0   0.0  \n",
       "\n",
       "[5 rows x 65 columns]"
      ]
     },
     "execution_count": 100,
     "metadata": {},
     "output_type": "execute_result"
    }
   ],
   "source": [
    "X_inputs = cannabis_df.loc[:, \"Rating\":\"Pear\"]\n",
    "y = cannabis_df[\"Type_is_sativa\"]\n",
    "\n",
    "X_inputs.head()"
   ]
  },
  {
   "cell_type": "code",
   "execution_count": 101,
   "metadata": {},
   "outputs": [],
   "source": [
    "def relu(x):\n",
    "    return np.maximum(0, x)\n",
    "\n",
    "def sigmoid(x):\n",
    "    return 1 / (1 + np.exp(-x))\n",
    "\n",
    "def leaky_relu(x, alpha=0.01):\n",
    "    return np.where(x > 0, x, alpha * x)"
   ]
  },
  {
   "cell_type": "code",
   "execution_count": 108,
   "metadata": {},
   "outputs": [
    {
     "name": "stdout",
     "output_type": "stream",
     "text": [
      "Testing with non-hybrid set\n"
     ]
    },
    {
     "data": {
      "text/plain": [
       "array([  14, 1104])"
      ]
     },
     "execution_count": 108,
     "metadata": {},
     "output_type": "execute_result"
    }
   ],
   "source": [
    "def calculate_activations(X, weight_sets, activation_f):\n",
    "    dot_product = np.dot(X, weight_sets)\n",
    "    activations = np.apply_along_axis(activation_f, 1, dot_product)\n",
    "    return activations    \n",
    "\n",
    "\n",
    "def perceptron(X, weight_sets, decision_boundary=0.5):\n",
    "    weight_sets = np.array(weight_sets).T\n",
    "\n",
    "    l1_activations = calculate_activations(X, weight_sets, sigmoid)\n",
    "    l2_activation = np.mean(l1_activations, axis=1)\n",
    "\n",
    "    return np.where(l2_activation >= decision_boundary, 1, 0)\n",
    "\n",
    "print(\"Testing with non-hybrid set\")\n",
    "value_counts = np.bincount(perceptron(X_inputs, [w1, w2, w3]))\n",
    "value_counts"
   ]
  },
  {
   "cell_type": "markdown",
   "metadata": {},
   "source": [
    "## 4. Prediction"
   ]
  },
  {
   "cell_type": "code",
   "execution_count": 103,
   "metadata": {},
   "outputs": [],
   "source": [
    "hybrid_cannabis_df = pd.concat([cannabis_full_df[\"Type\"], cannabis_full_df[\"Rating\"], cannabis_full_df.loc[:, \"Creative\":\"Pear\"]], axis=1)\n",
    "hybrid_cannabis_df = hybrid_cannabis_df[hybrid_cannabis_df[\"Type\"] == \"hybrid\"]\n",
    "hybrid_cannabis_df[\"Type_is_sativa\"] = np.where(hybrid_cannabis_df[\"Type\"] == \"sativa\", 1, 0)\n",
    "hybrid_cannabis_df = hybrid_cannabis_df.dropna()"
   ]
  },
  {
   "cell_type": "code",
   "execution_count": 104,
   "metadata": {},
   "outputs": [],
   "source": [
    "X_hybrid = hybrid_cannabis_df.loc[:, \"Rating\":\"Pear\"]"
   ]
  },
  {
   "cell_type": "code",
   "execution_count": 105,
   "metadata": {},
   "outputs": [
    {
     "name": "stdout",
     "output_type": "stream",
     "text": [
      "Testing with hybrid set\n"
     ]
    },
    {
     "data": {
      "text/plain": [
       "array([   3, 1184])"
      ]
     },
     "execution_count": 105,
     "metadata": {},
     "output_type": "execute_result"
    }
   ],
   "source": [
    "print(\"Testing with hybrid set\")\n",
    "value_counts = np.bincount(perceptron(X_hybrid, [w1, w2, w3]))\n",
    "value_counts"
   ]
  },
  {
   "cell_type": "code",
   "execution_count": null,
   "metadata": {},
   "outputs": [],
   "source": [
    "cannabis_df.head()"
   ]
  }
 ],
 "metadata": {
  "kernelspec": {
   "display_name": "data403",
   "language": "python",
   "name": "python3"
  },
  "language_info": {
   "codemirror_mode": {
    "name": "ipython",
    "version": 3
   },
   "file_extension": ".py",
   "mimetype": "text/x-python",
   "name": "python",
   "nbconvert_exporter": "python",
   "pygments_lexer": "ipython3",
   "version": "3.11.5"
  }
 },
 "nbformat": 4,
 "nbformat_minor": 2
}
