{
 "cells": [
  {
   "cell_type": "code",
   "execution_count": 848,
   "metadata": {},
   "outputs": [],
   "source": [
    "import pandas as pd\n",
    "import numpy as np\n",
    "import matplotlib.pyplot as plt"
   ]
  },
  {
   "cell_type": "markdown",
   "metadata": {},
   "source": [
    "## 0. Load and Clean Data"
   ]
  },
  {
   "cell_type": "code",
   "execution_count": 849,
   "metadata": {},
   "outputs": [],
   "source": [
    "cannabis_full_df = pd.read_csv(\"https://www.dropbox.com/scl/fi/ryzkzqwbxzod2yie59ma3/cannabis_full.csv?rlkey=odvjjdivybzli8po2e0w390kq&dl=1\")\n",
    "cannabis_df = pd.concat([cannabis_full_df[\"Type\"], cannabis_full_df[\"Rating\"], cannabis_full_df.loc[:, \"Creative\":\"Pear\"]], axis=1)\n",
    "cannabis_df = cannabis_df[cannabis_df[\"Type\"] != \"hybrid\"]\n",
    "cannabis_df[\"Type_is_sativa\"] = np.where(cannabis_df[\"Type\"] == \"sativa\", 1, 0)\n",
    "cannabis_df = cannabis_df.dropna()"
   ]
  },
  {
   "cell_type": "code",
   "execution_count": 850,
   "metadata": {},
   "outputs": [
    {
     "data": {
      "text/plain": [
       "(67,\n",
       " Index(['Type', 'Rating', 'Creative', 'Energetic', 'Tingly', 'Euphoric',\n",
       "        'Relaxed', 'Aroused', 'Happy', 'Uplifted', 'Hungry', 'Talkative',\n",
       "        'Giggly', 'Focused', 'Sleepy', 'Dry', 'Mouth', 'Earthy', 'Sweet',\n",
       "        'Citrus', 'Flowery', 'Violet', 'Diesel', 'Spicy/Herbal', 'Sage',\n",
       "        'Woody', 'Apricot', 'Grapefruit', 'Orange', 'Pungent', 'Grape', 'Pine',\n",
       "        'Skunk', 'Berry', 'Pepper', 'Menthol', 'Blue', 'Cheese', 'Chemical',\n",
       "        'Mango', 'Lemon', 'Peach', 'Vanilla', 'Nutty', 'Chestnut', 'Tea',\n",
       "        'Tobacco', 'Tropical', 'Strawberry', 'Blueberry', 'Mint', 'Apple',\n",
       "        'Honey', 'Lavender', 'Lime', 'Coffee', 'Ammonia', 'Minty', 'Tree',\n",
       "        'Fruit', 'Butter', 'Pineapple', 'Tar', 'Rose', 'Plum', 'Pear',\n",
       "        'Type_is_sativa'],\n",
       "       dtype='object'))"
      ]
     },
     "execution_count": 850,
     "metadata": {},
     "output_type": "execute_result"
    }
   ],
   "source": [
    "len(cannabis_df.columns), cannabis_df.columns"
   ]
  },
  {
   "cell_type": "markdown",
   "metadata": {},
   "source": [
    "## 1. Get Regression Coefficients\n",
    "\n",
    "Fitting three different Logistic Regression model predicting `Type`"
   ]
  },
  {
   "cell_type": "code",
   "execution_count": 851,
   "metadata": {},
   "outputs": [],
   "source": [
    "import logistic_regression as lr"
   ]
  },
  {
   "cell_type": "code",
   "execution_count": 852,
   "metadata": {},
   "outputs": [],
   "source": [
    "# LAMBDA = 200\n",
    "# ETA = 0.0005\n",
    "\n",
    "LAMBDA = 170\n",
    "ETA = 0.0005"
   ]
  },
  {
   "cell_type": "markdown",
   "metadata": {},
   "source": [
    "Effect predictors [`\"Creative\"` : `\"Mouth\"`]"
   ]
  },
  {
   "cell_type": "code",
   "execution_count": 853,
   "metadata": {},
   "outputs": [
    {
     "name": "stdout",
     "output_type": "stream",
     "text": [
      "[ 0.          0.05999946  0.18025954 -0.05908041 -0.10583436 -0.23058255\n",
      " -0.0118757  -0.08244075  0.04336369 -0.09607383  0.0475651  -0.03309194\n",
      "  0.07024617 -0.26367097  0.          0.          0.          0.\n",
      "  0.          0.          0.          0.          0.          0.\n",
      "  0.          0.          0.          0.          0.          0.\n",
      "  0.          0.          0.          0.          0.          0.\n",
      "  0.          0.          0.          0.          0.          0.\n",
      "  0.          0.          0.          0.          0.          0.\n",
      "  0.          0.          0.          0.          0.          0.\n",
      "  0.          0.          0.          0.          0.          0.\n",
      "  0.          0.          0.          0.          0.        ]\n"
     ]
    }
   ],
   "source": [
    "X = cannabis_df.loc[:, \"Creative\":\"Mouth\"].values\n",
    "y = cannabis_df[\"Type_is_sativa\"].values\n",
    "\n",
    "lr_betas_effects = lr.fit(X, y, lam=LAMBDA, eta=ETA)\n",
    "lr_betas_effects = np.insert(lr_betas_effects, 0, 0)\n",
    "lr_betas_effects = np.append(lr_betas_effects, np.zeros(49))\n",
    "\n",
    "print(lr_betas_effects)"
   ]
  },
  {
   "cell_type": "markdown",
   "metadata": {},
   "source": [
    "Flavor predictors [`\"Earthy\"` : `\"Pear\"`]"
   ]
  },
  {
   "cell_type": "code",
   "execution_count": 854,
   "metadata": {},
   "outputs": [
    {
     "name": "stdout",
     "output_type": "stream",
     "text": [
      "[ 0.00000000e+00  0.00000000e+00  0.00000000e+00  0.00000000e+00\n",
      "  0.00000000e+00  0.00000000e+00  0.00000000e+00  0.00000000e+00\n",
      "  0.00000000e+00  0.00000000e+00  0.00000000e+00  0.00000000e+00\n",
      "  0.00000000e+00  0.00000000e+00  0.00000000e+00  0.00000000e+00\n",
      " -1.60069520e-01 -7.43879646e-02  6.63901977e-02 -5.05087670e-02\n",
      "  6.96440162e-05 -6.08195922e-03 -1.49499385e-02 -1.60569754e-03\n",
      " -5.09643031e-02  4.33532713e-03  2.49132247e-03  1.56543524e-02\n",
      " -8.14632597e-02 -5.34360788e-02 -2.33726105e-02 -1.92547637e-02\n",
      " -9.00531567e-02 -9.35560263e-03 -2.73038376e-03 -3.39859114e-02\n",
      " -1.43455442e-02 -4.74049888e-03  6.74086777e-03  1.71979274e-02\n",
      "  2.37306212e-05 -1.67938526e-03 -5.52188590e-03 -5.03746995e-03\n",
      "  1.45265776e-03 -1.81510939e-03  3.39948424e-02  9.44471223e-03\n",
      " -3.31571336e-02 -5.32655541e-03 -8.63896304e-04 -6.95190840e-03\n",
      " -8.60305384e-03  3.59224562e-03 -2.60217801e-03 -4.60802696e-03\n",
      " -2.42028639e-03  9.05105520e-04  9.05105520e-04 -1.19021126e-02\n",
      "  1.50760485e-02  1.18959458e-03 -6.83560034e-03  7.80263106e-05\n",
      " -1.01634964e-03]\n"
     ]
    }
   ],
   "source": [
    "X = cannabis_df.loc[:, \"Earthy\":\"Pear\"].values\n",
    "y = cannabis_df[\"Type_is_sativa\"].values\n",
    "\n",
    "lr_betas_flavors = lr.fit(X, y, lam=LAMBDA, eta=ETA)\n",
    "lr_betas_flavors = np.append(np.zeros(16), lr_betas_flavors)\n",
    "\n",
    "print(lr_betas_flavors)"
   ]
  },
  {
   "cell_type": "markdown",
   "metadata": {},
   "source": [
    "Only Rating predictor [`\"Rating\"`]"
   ]
  },
  {
   "cell_type": "code",
   "execution_count": 855,
   "metadata": {},
   "outputs": [
    {
     "name": "stdout",
     "output_type": "stream",
     "text": [
      "[0.11485039 0.         0.         0.         0.         0.\n",
      " 0.         0.         0.         0.         0.         0.\n",
      " 0.         0.         0.         0.         0.         0.\n",
      " 0.         0.         0.         0.         0.         0.\n",
      " 0.         0.         0.         0.         0.         0.\n",
      " 0.         0.         0.         0.         0.         0.\n",
      " 0.         0.         0.         0.         0.         0.\n",
      " 0.         0.         0.         0.         0.         0.\n",
      " 0.         0.         0.         0.         0.         0.\n",
      " 0.         0.         0.         0.         0.         0.\n",
      " 0.         0.         0.         0.         0.        ]\n"
     ]
    }
   ],
   "source": [
    "X = cannabis_df[[\"Rating\"]].values\n",
    "y = cannabis_df[\"Type_is_sativa\"].values\n",
    "\n",
    "lr_betas_rating = lr.fit(X, y, lam=LAMBDA, eta=ETA)\n",
    "lr_betas_rating = np.append(lr_betas_rating, np.zeros(64))\n",
    "\n",
    "print(lr_betas_rating)"
   ]
  },
  {
   "cell_type": "markdown",
   "metadata": {},
   "source": [
    "## 2. Weight sets"
   ]
  },
  {
   "cell_type": "code",
   "execution_count": 856,
   "metadata": {},
   "outputs": [],
   "source": [
    "w1 = lr_betas_effects\n",
    "w2 = lr_betas_flavors\n",
    "w3 = lr_betas_rating"
   ]
  },
  {
   "cell_type": "markdown",
   "metadata": {},
   "source": [
    "## 3. Perceptron"
   ]
  },
  {
   "cell_type": "code",
   "execution_count": 857,
   "metadata": {},
   "outputs": [
    {
     "data": {
      "text/html": [
       "<div>\n",
       "<style scoped>\n",
       "    .dataframe tbody tr th:only-of-type {\n",
       "        vertical-align: middle;\n",
       "    }\n",
       "\n",
       "    .dataframe tbody tr th {\n",
       "        vertical-align: top;\n",
       "    }\n",
       "\n",
       "    .dataframe thead th {\n",
       "        text-align: right;\n",
       "    }\n",
       "</style>\n",
       "<table border=\"1\" class=\"dataframe\">\n",
       "  <thead>\n",
       "    <tr style=\"text-align: right;\">\n",
       "      <th></th>\n",
       "      <th>Rating</th>\n",
       "      <th>Creative</th>\n",
       "      <th>Energetic</th>\n",
       "      <th>Tingly</th>\n",
       "      <th>Euphoric</th>\n",
       "      <th>Relaxed</th>\n",
       "      <th>Aroused</th>\n",
       "      <th>Happy</th>\n",
       "      <th>Uplifted</th>\n",
       "      <th>Hungry</th>\n",
       "      <th>...</th>\n",
       "      <th>Ammonia</th>\n",
       "      <th>Minty</th>\n",
       "      <th>Tree</th>\n",
       "      <th>Fruit</th>\n",
       "      <th>Butter</th>\n",
       "      <th>Pineapple</th>\n",
       "      <th>Tar</th>\n",
       "      <th>Rose</th>\n",
       "      <th>Plum</th>\n",
       "      <th>Pear</th>\n",
       "    </tr>\n",
       "  </thead>\n",
       "  <tbody>\n",
       "    <tr>\n",
       "      <th>2</th>\n",
       "      <td>4.4</td>\n",
       "      <td>1.0</td>\n",
       "      <td>1.0</td>\n",
       "      <td>0.0</td>\n",
       "      <td>0.0</td>\n",
       "      <td>1.0</td>\n",
       "      <td>0.0</td>\n",
       "      <td>1.0</td>\n",
       "      <td>1.0</td>\n",
       "      <td>0.0</td>\n",
       "      <td>...</td>\n",
       "      <td>0.0</td>\n",
       "      <td>0.0</td>\n",
       "      <td>0.0</td>\n",
       "      <td>0.0</td>\n",
       "      <td>0.0</td>\n",
       "      <td>0.0</td>\n",
       "      <td>0.0</td>\n",
       "      <td>0.0</td>\n",
       "      <td>0.0</td>\n",
       "      <td>0.0</td>\n",
       "    </tr>\n",
       "    <tr>\n",
       "      <th>5</th>\n",
       "      <td>0.0</td>\n",
       "      <td>0.0</td>\n",
       "      <td>0.0</td>\n",
       "      <td>0.0</td>\n",
       "      <td>0.0</td>\n",
       "      <td>0.0</td>\n",
       "      <td>0.0</td>\n",
       "      <td>0.0</td>\n",
       "      <td>0.0</td>\n",
       "      <td>0.0</td>\n",
       "      <td>...</td>\n",
       "      <td>0.0</td>\n",
       "      <td>0.0</td>\n",
       "      <td>0.0</td>\n",
       "      <td>0.0</td>\n",
       "      <td>0.0</td>\n",
       "      <td>0.0</td>\n",
       "      <td>0.0</td>\n",
       "      <td>0.0</td>\n",
       "      <td>0.0</td>\n",
       "      <td>0.0</td>\n",
       "    </tr>\n",
       "    <tr>\n",
       "      <th>7</th>\n",
       "      <td>4.2</td>\n",
       "      <td>0.0</td>\n",
       "      <td>0.0</td>\n",
       "      <td>0.0</td>\n",
       "      <td>1.0</td>\n",
       "      <td>1.0</td>\n",
       "      <td>0.0</td>\n",
       "      <td>1.0</td>\n",
       "      <td>1.0</td>\n",
       "      <td>0.0</td>\n",
       "      <td>...</td>\n",
       "      <td>0.0</td>\n",
       "      <td>0.0</td>\n",
       "      <td>0.0</td>\n",
       "      <td>0.0</td>\n",
       "      <td>0.0</td>\n",
       "      <td>0.0</td>\n",
       "      <td>0.0</td>\n",
       "      <td>0.0</td>\n",
       "      <td>0.0</td>\n",
       "      <td>0.0</td>\n",
       "    </tr>\n",
       "    <tr>\n",
       "      <th>8</th>\n",
       "      <td>4.6</td>\n",
       "      <td>0.0</td>\n",
       "      <td>0.0</td>\n",
       "      <td>0.0</td>\n",
       "      <td>0.0</td>\n",
       "      <td>1.0</td>\n",
       "      <td>0.0</td>\n",
       "      <td>1.0</td>\n",
       "      <td>1.0</td>\n",
       "      <td>0.0</td>\n",
       "      <td>...</td>\n",
       "      <td>0.0</td>\n",
       "      <td>0.0</td>\n",
       "      <td>0.0</td>\n",
       "      <td>0.0</td>\n",
       "      <td>0.0</td>\n",
       "      <td>0.0</td>\n",
       "      <td>0.0</td>\n",
       "      <td>0.0</td>\n",
       "      <td>0.0</td>\n",
       "      <td>0.0</td>\n",
       "    </tr>\n",
       "    <tr>\n",
       "      <th>9</th>\n",
       "      <td>4.4</td>\n",
       "      <td>0.0</td>\n",
       "      <td>0.0</td>\n",
       "      <td>1.0</td>\n",
       "      <td>1.0</td>\n",
       "      <td>1.0</td>\n",
       "      <td>0.0</td>\n",
       "      <td>1.0</td>\n",
       "      <td>1.0</td>\n",
       "      <td>0.0</td>\n",
       "      <td>...</td>\n",
       "      <td>0.0</td>\n",
       "      <td>0.0</td>\n",
       "      <td>0.0</td>\n",
       "      <td>0.0</td>\n",
       "      <td>0.0</td>\n",
       "      <td>0.0</td>\n",
       "      <td>0.0</td>\n",
       "      <td>0.0</td>\n",
       "      <td>0.0</td>\n",
       "      <td>0.0</td>\n",
       "    </tr>\n",
       "  </tbody>\n",
       "</table>\n",
       "<p>5 rows × 65 columns</p>\n",
       "</div>"
      ],
      "text/plain": [
       "   Rating  Creative  Energetic  Tingly  Euphoric  Relaxed  Aroused  Happy  \\\n",
       "2     4.4       1.0        1.0     0.0       0.0      1.0      0.0    1.0   \n",
       "5     0.0       0.0        0.0     0.0       0.0      0.0      0.0    0.0   \n",
       "7     4.2       0.0        0.0     0.0       1.0      1.0      0.0    1.0   \n",
       "8     4.6       0.0        0.0     0.0       0.0      1.0      0.0    1.0   \n",
       "9     4.4       0.0        0.0     1.0       1.0      1.0      0.0    1.0   \n",
       "\n",
       "   Uplifted  Hungry  ...  Ammonia  Minty  Tree  Fruit  Butter  Pineapple  Tar  \\\n",
       "2       1.0     0.0  ...      0.0    0.0   0.0    0.0     0.0        0.0  0.0   \n",
       "5       0.0     0.0  ...      0.0    0.0   0.0    0.0     0.0        0.0  0.0   \n",
       "7       1.0     0.0  ...      0.0    0.0   0.0    0.0     0.0        0.0  0.0   \n",
       "8       1.0     0.0  ...      0.0    0.0   0.0    0.0     0.0        0.0  0.0   \n",
       "9       1.0     0.0  ...      0.0    0.0   0.0    0.0     0.0        0.0  0.0   \n",
       "\n",
       "   Rose  Plum  Pear  \n",
       "2   0.0   0.0   0.0  \n",
       "5   0.0   0.0   0.0  \n",
       "7   0.0   0.0   0.0  \n",
       "8   0.0   0.0   0.0  \n",
       "9   0.0   0.0   0.0  \n",
       "\n",
       "[5 rows x 65 columns]"
      ]
     },
     "execution_count": 857,
     "metadata": {},
     "output_type": "execute_result"
    }
   ],
   "source": [
    "X_inputs = cannabis_df.loc[:, \"Rating\":\"Pear\"]\n",
    "y = cannabis_df[\"Type_is_sativa\"]\n",
    "\n",
    "X_inputs.head()"
   ]
  },
  {
   "cell_type": "code",
   "execution_count": 858,
   "metadata": {},
   "outputs": [],
   "source": [
    "def relu(x):\n",
    "    return np.maximum(0, x)\n",
    "\n",
    "def sigmoid(x):\n",
    "    return 1 / (1 + np.exp(-x))\n",
    "\n",
    "def leaky_relu(x, alpha=0.01):\n",
    "    return np.where(x > 0, x, alpha * x)"
   ]
  },
  {
   "cell_type": "code",
   "execution_count": 859,
   "metadata": {},
   "outputs": [
    {
     "name": "stdout",
     "output_type": "stream",
     "text": [
      "Testing with non-hyrbid set\n",
      "First 5 Predictions: [1 1 0 1 0]\n"
     ]
    },
    {
     "data": {
      "image/png": "[encoded data removed]",
      "text/plain": [
       "<Figure size 800x600 with 1 Axes>"
      ]
     },
     "metadata": {},
     "output_type": "display_data"
    }
   ],
   "source": [
    "def calculate_activations(X, weight_sets, activation_f):\n",
    "    dot_product = np.dot(X, weight_sets)\n",
    "    activations = np.apply_along_axis(activation_f, 1, dot_product)\n",
    "    return activations    \n",
    "\n",
    "\n",
    "def perceptron(X, weight_sets, decision_boundary=0.5, activation_f=sigmoid):\n",
    "    weight_sets = np.array(weight_sets).T\n",
    "\n",
    "    l1_activations = calculate_activations(X, weight_sets, activation_f)\n",
    "    l2_activation = np.mean(l1_activations, axis=1)\n",
    "\n",
    "    return np.where(l2_activation >= decision_boundary, 1, 0)\n",
    "    \n",
    "\n",
    "# print(\"Testing with non-hybrid set\")\n",
    "preds = perceptron(X_inputs, [w1, w2, w3])\n",
    "\n",
    "zeros = np.sum(preds == 0)\n",
    "ones = np.sum(preds == 1)\n",
    "\n",
    "print(\"Testing with non-hyrbid set\")\n",
    "print(\"First 5 Predictions:\", preds[:5])\n",
    "\n",
    "plt.figure(figsize=(8, 6), dpi=100)\n",
    "plt.bar(['Indica', 'Sativa'], [zeros, ones], color=['orange', 'blue'])\n",
    "plt.xlabel('Value')\n",
    "plt.ylabel('Count')\n",
    "plt.title('Indica and Sativa Count')\n",
    "plt.text(0, zeros, str(zeros), ha='center', va='bottom')\n",
    "plt.text(1, ones, str(ones), ha='center', va='bottom')\n",
    "plt.show()"
   ]
  },
  {
   "cell_type": "markdown",
   "metadata": {},
   "source": [
    "## 4. Prediction"
   ]
  },
  {
   "cell_type": "code",
   "execution_count": 860,
   "metadata": {},
   "outputs": [],
   "source": [
    "hybrid_cannabis_df = pd.concat([cannabis_full_df[\"Type\"], cannabis_full_df[\"Rating\"], cannabis_full_df.loc[:, \"Creative\":\"Pear\"]], axis=1)\n",
    "hybrid_cannabis_df = hybrid_cannabis_df[hybrid_cannabis_df[\"Type\"] == \"hybrid\"]\n",
    "hybrid_cannabis_df[\"Type_is_sativa\"] = np.where(hybrid_cannabis_df[\"Type\"] == \"sativa\", 1, 0)\n",
    "hybrid_cannabis_df = hybrid_cannabis_df.dropna()"
   ]
  },
  {
   "cell_type": "code",
   "execution_count": 861,
   "metadata": {},
   "outputs": [
    {
     "data": {
      "text/html": [
       "<div>\n",
       "<style scoped>\n",
       "    .dataframe tbody tr th:only-of-type {\n",
       "        vertical-align: middle;\n",
       "    }\n",
       "\n",
       "    .dataframe tbody tr th {\n",
       "        vertical-align: top;\n",
       "    }\n",
       "\n",
       "    .dataframe thead th {\n",
       "        text-align: right;\n",
       "    }\n",
       "</style>\n",
       "<table border=\"1\" class=\"dataframe\">\n",
       "  <thead>\n",
       "    <tr style=\"text-align: right;\">\n",
       "      <th></th>\n",
       "      <th>Rating</th>\n",
       "      <th>Creative</th>\n",
       "      <th>Energetic</th>\n",
       "      <th>Tingly</th>\n",
       "      <th>Euphoric</th>\n",
       "      <th>Relaxed</th>\n",
       "      <th>Aroused</th>\n",
       "      <th>Happy</th>\n",
       "      <th>Uplifted</th>\n",
       "      <th>Hungry</th>\n",
       "      <th>...</th>\n",
       "      <th>Ammonia</th>\n",
       "      <th>Minty</th>\n",
       "      <th>Tree</th>\n",
       "      <th>Fruit</th>\n",
       "      <th>Butter</th>\n",
       "      <th>Pineapple</th>\n",
       "      <th>Tar</th>\n",
       "      <th>Rose</th>\n",
       "      <th>Plum</th>\n",
       "      <th>Pear</th>\n",
       "    </tr>\n",
       "  </thead>\n",
       "  <tbody>\n",
       "    <tr>\n",
       "      <th>0</th>\n",
       "      <td>4.0</td>\n",
       "      <td>1.0</td>\n",
       "      <td>1.0</td>\n",
       "      <td>1.0</td>\n",
       "      <td>1.0</td>\n",
       "      <td>1.0</td>\n",
       "      <td>0.0</td>\n",
       "      <td>0.0</td>\n",
       "      <td>0.0</td>\n",
       "      <td>0.0</td>\n",
       "      <td>...</td>\n",
       "      <td>0.0</td>\n",
       "      <td>0.0</td>\n",
       "      <td>0.0</td>\n",
       "      <td>0.0</td>\n",
       "      <td>0.0</td>\n",
       "      <td>0.0</td>\n",
       "      <td>0.0</td>\n",
       "      <td>0.0</td>\n",
       "      <td>0.0</td>\n",
       "      <td>0.0</td>\n",
       "    </tr>\n",
       "    <tr>\n",
       "      <th>1</th>\n",
       "      <td>4.7</td>\n",
       "      <td>1.0</td>\n",
       "      <td>1.0</td>\n",
       "      <td>0.0</td>\n",
       "      <td>0.0</td>\n",
       "      <td>1.0</td>\n",
       "      <td>1.0</td>\n",
       "      <td>1.0</td>\n",
       "      <td>0.0</td>\n",
       "      <td>0.0</td>\n",
       "      <td>...</td>\n",
       "      <td>0.0</td>\n",
       "      <td>0.0</td>\n",
       "      <td>0.0</td>\n",
       "      <td>0.0</td>\n",
       "      <td>0.0</td>\n",
       "      <td>0.0</td>\n",
       "      <td>0.0</td>\n",
       "      <td>0.0</td>\n",
       "      <td>0.0</td>\n",
       "      <td>0.0</td>\n",
       "    </tr>\n",
       "    <tr>\n",
       "      <th>3</th>\n",
       "      <td>4.2</td>\n",
       "      <td>1.0</td>\n",
       "      <td>0.0</td>\n",
       "      <td>1.0</td>\n",
       "      <td>0.0</td>\n",
       "      <td>1.0</td>\n",
       "      <td>0.0</td>\n",
       "      <td>0.0</td>\n",
       "      <td>1.0</td>\n",
       "      <td>1.0</td>\n",
       "      <td>...</td>\n",
       "      <td>0.0</td>\n",
       "      <td>0.0</td>\n",
       "      <td>0.0</td>\n",
       "      <td>0.0</td>\n",
       "      <td>0.0</td>\n",
       "      <td>0.0</td>\n",
       "      <td>0.0</td>\n",
       "      <td>0.0</td>\n",
       "      <td>0.0</td>\n",
       "      <td>0.0</td>\n",
       "    </tr>\n",
       "    <tr>\n",
       "      <th>4</th>\n",
       "      <td>4.6</td>\n",
       "      <td>0.0</td>\n",
       "      <td>0.0</td>\n",
       "      <td>0.0</td>\n",
       "      <td>1.0</td>\n",
       "      <td>1.0</td>\n",
       "      <td>0.0</td>\n",
       "      <td>1.0</td>\n",
       "      <td>1.0</td>\n",
       "      <td>0.0</td>\n",
       "      <td>...</td>\n",
       "      <td>0.0</td>\n",
       "      <td>0.0</td>\n",
       "      <td>0.0</td>\n",
       "      <td>0.0</td>\n",
       "      <td>0.0</td>\n",
       "      <td>0.0</td>\n",
       "      <td>0.0</td>\n",
       "      <td>0.0</td>\n",
       "      <td>0.0</td>\n",
       "      <td>0.0</td>\n",
       "    </tr>\n",
       "    <tr>\n",
       "      <th>6</th>\n",
       "      <td>4.4</td>\n",
       "      <td>0.0</td>\n",
       "      <td>0.0</td>\n",
       "      <td>0.0</td>\n",
       "      <td>1.0</td>\n",
       "      <td>1.0</td>\n",
       "      <td>0.0</td>\n",
       "      <td>1.0</td>\n",
       "      <td>1.0</td>\n",
       "      <td>1.0</td>\n",
       "      <td>...</td>\n",
       "      <td>0.0</td>\n",
       "      <td>0.0</td>\n",
       "      <td>0.0</td>\n",
       "      <td>0.0</td>\n",
       "      <td>0.0</td>\n",
       "      <td>0.0</td>\n",
       "      <td>0.0</td>\n",
       "      <td>0.0</td>\n",
       "      <td>0.0</td>\n",
       "      <td>0.0</td>\n",
       "    </tr>\n",
       "  </tbody>\n",
       "</table>\n",
       "<p>5 rows × 65 columns</p>\n",
       "</div>"
      ],
      "text/plain": [
       "   Rating  Creative  Energetic  Tingly  Euphoric  Relaxed  Aroused  Happy  \\\n",
       "0     4.0       1.0        1.0     1.0       1.0      1.0      0.0    0.0   \n",
       "1     4.7       1.0        1.0     0.0       0.0      1.0      1.0    1.0   \n",
       "3     4.2       1.0        0.0     1.0       0.0      1.0      0.0    0.0   \n",
       "4     4.6       0.0        0.0     0.0       1.0      1.0      0.0    1.0   \n",
       "6     4.4       0.0        0.0     0.0       1.0      1.0      0.0    1.0   \n",
       "\n",
       "   Uplifted  Hungry  ...  Ammonia  Minty  Tree  Fruit  Butter  Pineapple  Tar  \\\n",
       "0       0.0     0.0  ...      0.0    0.0   0.0    0.0     0.0        0.0  0.0   \n",
       "1       0.0     0.0  ...      0.0    0.0   0.0    0.0     0.0        0.0  0.0   \n",
       "3       1.0     1.0  ...      0.0    0.0   0.0    0.0     0.0        0.0  0.0   \n",
       "4       1.0     0.0  ...      0.0    0.0   0.0    0.0     0.0        0.0  0.0   \n",
       "6       1.0     1.0  ...      0.0    0.0   0.0    0.0     0.0        0.0  0.0   \n",
       "\n",
       "   Rose  Plum  Pear  \n",
       "0   0.0   0.0   0.0  \n",
       "1   0.0   0.0   0.0  \n",
       "3   0.0   0.0   0.0  \n",
       "4   0.0   0.0   0.0  \n",
       "6   0.0   0.0   0.0  \n",
       "\n",
       "[5 rows x 65 columns]"
      ]
     },
     "execution_count": 861,
     "metadata": {},
     "output_type": "execute_result"
    }
   ],
   "source": [
    "X_hybrid = hybrid_cannabis_df.loc[:, \"Rating\":\"Pear\"]\n",
    "\n",
    "X_hybrid.head()"
   ]
  },
  {
   "cell_type": "code",
   "execution_count": 862,
   "metadata": {},
   "outputs": [
    {
     "name": "stdout",
     "output_type": "stream",
     "text": [
      "Testing with hybrid set\n",
      "First 5 Predictions: [1 1 1 1 0]\n"
     ]
    },
    {
     "data": {
      "image/png": "[encoded data removed]",
      "text/plain": [
       "<Figure size 800x600 with 1 Axes>"
      ]
     },
     "metadata": {},
     "output_type": "display_data"
    }
   ],
   "source": [
    "preds = perceptron(X_hybrid, [w1, w2, w3])\n",
    "\n",
    "print(\"Testing with hybrid set\")\n",
    "print(\"First 5 Predictions:\", preds[:5])\n",
    "\n",
    "zeros = np.sum(preds == 0)\n",
    "ones = np.sum(preds == 1)\n",
    "\n",
    "plt.figure(figsize=(8, 6), dpi=100)\n",
    "plt.bar(['Indica', 'Sativa'], [zeros, ones], color=['orange', 'blue'])\n",
    "plt.xlabel('Value')\n",
    "plt.ylabel('Count')\n",
    "plt.title('Indica and Sativa Count')\n",
    "plt.text(0, zeros, str(zeros), ha='center', va='bottom')\n",
    "plt.text(1, ones, str(ones), ha='center', va='bottom')\n",
    "plt.show()"
   ]
  },
  {
   "cell_type": "markdown",
   "metadata": {},
   "source": [
    "'Actual Type' based on Google findings.\n",
    "\n",
    "| Strain | Actual Type | Predicted Type |\n",
    "|--------|-------------|----------------|\n",
    "| 100-Og | 50/50 | Sativa |\n",
    "| 98-White-Widow | Sativa | Sativa |\n",
    "| 13-Dawgs | 50/50 | Sativa |\n",
    "| 24K-Gold | Indica | Sativa |\n",
    "| 3-Kings | Sativa | Indica |"
   ]
  },
  {
   "cell_type": "markdown",
   "metadata": {},
   "source": [
    "## 5. Hidden Layer"
   ]
  },
  {
   "cell_type": "code",
   "execution_count": 872,
   "metadata": {},
   "outputs": [
    {
     "name": "stdout",
     "output_type": "stream",
     "text": [
      "Testing with hybrid set\n",
      "First 5 Predictions: [0 1 1 1 0]\n"
     ]
    },
    {
     "data": {
      "image/png": "[encoded data removed]",
      "text/plain": [
       "<Figure size 800x600 with 1 Axes>"
      ]
     },
     "metadata": {},
     "output_type": "display_data"
    }
   ],
   "source": [
    "def calculate_activations2(X, weight_sets, activation_f):\n",
    "    dot_product = np.dot(X, weight_sets)\n",
    "    activations = np.apply_along_axis(activation_f, 1, dot_product)\n",
    "    return activations    \n",
    "\n",
    "\n",
    "def perceptron2(X, weight_sets, decision_boundary=0.5, activation_f=sigmoid):\n",
    "    weight_sets = np.array(weight_sets).T\n",
    "\n",
    "    l1_activations = calculate_activations2(X, weight_sets, activation_f)\n",
    "\n",
    "    proportion_non_zero_params = np.count_nonzero(weight_sets, axis=0) / len(weight_sets)\n",
    "    scaled_activations = l1_activations * (proportion_non_zero_params * 3.3) # cherry picked 3.3 :)\n",
    "\n",
    "    l2_activation = np.mean(scaled_activations, axis=1)\n",
    "\n",
    "    return np.where(l2_activation >= decision_boundary, 1, 0)\n",
    "\n",
    "\n",
    "preds = perceptron2(X_hybrid, [w1, w2, w3])\n",
    "\n",
    "print(\"Testing with hybrid set\")\n",
    "print(\"First 5 Predictions:\", preds[:5])\n",
    "\n",
    "zeros = np.sum(preds == 0)\n",
    "ones = np.sum(preds == 1)\n",
    "\n",
    "plt.figure(figsize=(8, 6), dpi=100)\n",
    "plt.bar(['Indica', 'Sativa'], [zeros, ones], color=['orange', 'blue'])\n",
    "plt.xlabel('Value')\n",
    "plt.ylabel('Count')\n",
    "plt.title('Indica and Sativa Count')\n",
    "plt.text(0, zeros, str(zeros), ha='center', va='bottom')\n",
    "plt.text(1, ones, str(ones), ha='center', va='bottom')\n",
    "plt.show()"
   ]
  },
  {
   "cell_type": "markdown",
   "metadata": {},
   "source": [
    "'Actual Type' based on Google findings.\n",
    "\n",
    "| Strain | Actual Type | Predicted Type |\n",
    "|--------|-------------|----------------|\n",
    "| 100-Og | 50/50 | Indica |\n",
    "| 98-White-Widow | Sativa | Sativa |\n",
    "| 13-Dawgs | 50/50 | Sativa |\n",
    "| 24K-Gold | Indica | Sativa |\n",
    "| 3-Kings | Sativa | Indica |"
   ]
  }
 ],
 "metadata": {
  "kernelspec": {
   "display_name": "data403",
   "language": "python",
   "name": "python3"
  },
  "language_info": {
   "codemirror_mode": {
    "name": "ipython",
    "version": 3
   },
   "file_extension": ".py",
   "mimetype": "text/x-python",
   "name": "python",
   "nbconvert_exporter": "python",
   "pygments_lexer": "ipython3",
   "version": "3.11.5"
  }
 },
 "nbformat": 4,
 "nbformat_minor": 2
}
